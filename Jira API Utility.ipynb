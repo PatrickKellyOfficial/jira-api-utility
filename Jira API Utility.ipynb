{
 "cells": [
  {
   "cell_type": "code",
   "execution_count": null,
   "metadata": {},
   "outputs": [],
   "source": [
    "# Author: Patrick Kelly\n",
    "# Contact: patkelly92@gmail.com\n",
    "# Date: January 14, 2021\n",
    "\n",
    "\"\"\" NECESSARY LIBRARIES: \"\"\"\n",
    "import pandas as pd    # Data Manipulation\n",
    "from jira import JIRA  # Connecting to Jira's API"
   ]
  },
  {
   "cell_type": "markdown",
   "metadata": {},
   "source": [
    "# Setting up our connection to Jira\n",
    "To set up our connection, go to your organizations Jira page, find your Project Name, Project Key, URL, and create an API key in the personal settings tab. Once you have all this information, simply plug it in below. If you see a list of projects, then you should be all set."
   ]
  },
  {
   "cell_type": "code",
   "execution_count": null,
   "metadata": {},
   "outputs": [],
   "source": [
    "# API Key Name: Your API name Here\n",
    "# Organization ID: \n",
    "# URL: https://your-organization-here.atlassian.net\n",
    "# Project Name: Your Project Name\n",
    "# Project Key: XX\n",
    "\n",
    "user = \"user@gmail.com\"\n",
    "apikey = \"JIRA_API_Key\"\n",
    "server = \"https://your-organization-here.atlassian.net/\"\n",
    "\n",
    "options = {\n",
    "    'server': server\n",
    "}\n",
    "\n",
    "jira = JIRA(options, basic_auth=(user,apikey))\n",
    "\n",
    "projects = jira.projects()\n",
    "\n",
    "# Quick Sanity Check to see if we're connected\n",
    "print(projects)"
   ]
  },
  {
   "cell_type": "markdown",
   "metadata": {},
   "source": [
    "# Generate Jira Tickets\n",
    "Now that we have got our Jira connection all set up, it's now time to generate tickets. In this example, let's assume we are working with a Pandas DataFrame that contains technical issues from a customer service department regarding an ecommerce website with columns such as Type, Issue, Impact, etc. We map these column values into a list of dictionaries in a format that Jira needs to create Issue Tickets. Once we map our column values into a list of dictionaries, we send off to Jira in increments of 50."
   ]
  },
  {
   "cell_type": "code",
   "execution_count": null,
   "metadata": {},
   "outputs": [],
   "source": [
    "# Empty list to store our Jira Issue Dictionaries\n",
    "jira_issues = []\n",
    "\n",
    "# Our project ID that we're creating tickets under\n",
    "project_id = \"XX\"   \n",
    "\n",
    "# Given a DataFrame of issues we'd like to make a Jira Ticket out of\n",
    "for row in df.itertuples():\n",
    "    summary_text = row.Jira_Key # I usually create a column called Jira_Key which is a unique name for our ticket\n",
    "    # Change this description text for the ticket as your needs fit\n",
    "    description_text = \"\"\"\n",
    "    Type: {}\n",
    "    Issue: {}\n",
    "    Impact: {}\n",
    "    Other Info: {} \"\"\".format(row._4, row.Amount, row._9, row._7)  # Change this to match your columns\n",
    "    \n",
    "    # Create Jira Issue\n",
    "    issue_dict = {\n",
    "        'project': project_id,\n",
    "        'summary': summary_text,\n",
    "        'description': description_text,\n",
    "        'issuetype': {'name':'Email request'}\n",
    "    }   \n",
    "             \n",
    "    # Add Jira Issue to jira_issues list\n",
    "    jira_issues.append(issue_dict)\n",
    "\n",
    "# Take list of issues and send off to Jira in increments of 50 until we are all done\n",
    "len(jira_issues)\n",
    "x = 0\n",
    "while x < len(jira_issues):\n",
    "    issues = jira.create_issues(field_list=jira_issues[x:x+50])\n",
    "    x += 50\n",
    "    time.sleep(4)"
   ]
  },
  {
   "cell_type": "markdown",
   "metadata": {},
   "source": [
    "# For More Great Information and Code Examples:\n",
    "Please visit https://jira.readthedocs.io/"
   ]
  },
  {
   "cell_type": "code",
   "execution_count": null,
   "metadata": {},
   "outputs": [],
   "source": []
  }
 ],
 "metadata": {
  "kernelspec": {
   "display_name": "Python 3",
   "language": "python",
   "name": "python3"
  },
  "language_info": {
   "codemirror_mode": {
    "name": "ipython",
    "version": 3
   },
   "file_extension": ".py",
   "mimetype": "text/x-python",
   "name": "python",
   "nbconvert_exporter": "python",
   "pygments_lexer": "ipython3",
   "version": "3.7.9"
  }
 },
 "nbformat": 4,
 "nbformat_minor": 4
}
